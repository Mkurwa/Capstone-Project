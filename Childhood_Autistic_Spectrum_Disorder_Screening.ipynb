{
  "nbformat": 4,
  "nbformat_minor": 0,
  "metadata": {
    "colab": {
      "name": "Childhood Autistic Spectrum Disorder Screening using Machine Learning.ipynb",
      "provenance": [],
      "collapsed_sections": []
    },
    "kernelspec": {
      "name": "python3",
      "display_name": "Python 3"
    }
  },
  "cells": [
    {
      "cell_type": "markdown",
      "metadata": {
        "id": "X9ZeG1_3_xdh",
        "colab_type": "text"
      },
      "source": [
        "#**Capstone Project**\n",
        "\n",
        "## ***Childhood Autistic Spectrum Disorder Screening using Machine Learning***\n",
        "\n",
        "### **Project designed and executed by Mukkul Kurwa**\n",
        "\n",
        "The early diagnosis of neurodevelopment disorders can improve treatment and significantly decrease the associated healthcare costs. In this project, we will use supervised learning to diagnose Autistic Spectrum Disorder (ASD) based on behavioural features and individual characteristics. More specifically, we will build and deploy a neural network using the Keras API.\n",
        "\n",
        "This project will use a dataset provided by the UCI Machine Learning Repository that contains screening data for 292 patients. The dataset can be found at the following URL: https://archive.ics.uci.edu/ml/datasets/Autistic+Spectrum+Disorder+Screening+Data+for+Children++\n",
        "\n",
        "**Abstract:** Autistic Spectrum Disorder (ASD) is a neurodevelopment  condition associated with significant healthcare costs, and early diagnosis can significantly reduce these. Unfortunately, waiting times for an ASD diagnosis are lengthy and procedures are not cost effective. The economic impact of autism and the increase in the number of ASD cases across the world reveals an urgent need for the development of easily implemented and effective screening methods. Therefore, a time-efficient and accessible ASD screening is imminent to help health professionals and inform individuals whether they should pursue formal clinical diagnosis.  The rapid growth in the number of ASD cases worldwide necessitates datasets related to behaviour traits. However, such datasets are rare making it difficult to perform thorough analyses to improve the efficiency, sensitivity, specificity and predictive accuracy of the ASD screening process. Presently, very limited autism datasets associated with clinical or screening are available and most of them are genetic in nature. Hence, we propose a new dataset related to autism screening of adults that contained 20 features to be utilised for further analysis especially in determining influential autistic traits and improving the classification of ASD cases. In this dataset, we record ten behavioural features (AQ-10-Child) plus ten individuals characteristics that have proved to be effective in detecting the ASD cases from controls in behaviour science. \n",
        "\n",
        "## **Let's begin with preparing our data set**\n",
        "\n",
        "### **Import Datasets**\n",
        "\n",
        "I start by importing the 'Autism-Child-Data.csv' file into a Pandas dataframe and take a look at it."
      ]
    },
    {
      "cell_type": "code",
      "metadata": {
        "id": "jBBHPDdZ_2vM",
        "colab_type": "code",
        "outputId": "880653af-e2d1-4abc-e066-2f9565295f17",
        "colab": {
          "base_uri": "https://localhost:8080/",
          "height": 309
        }
      },
      "source": [
        "# Import libraries necessary for this project\n",
        "import numpy as np\n",
        "import pandas as pd\n",
        "from time import time\n",
        "from IPython.display import display # Allows the use of display() for DataFrames\n",
        "\n",
        "# Pretty display for notebooks\n",
        "%matplotlib inline\n",
        "\n",
        "data = pd.read_csv('Autism-Child-Data.csv')\n",
        "display(data.head(n=5))"
      ],
      "execution_count": 1,
      "outputs": [
        {
          "output_type": "display_data",
          "data": {
            "text/html": [
              "<div>\n",
              "<style scoped>\n",
              "    .dataframe tbody tr th:only-of-type {\n",
              "        vertical-align: middle;\n",
              "    }\n",
              "\n",
              "    .dataframe tbody tr th {\n",
              "        vertical-align: top;\n",
              "    }\n",
              "\n",
              "    .dataframe thead th {\n",
              "        text-align: right;\n",
              "    }\n",
              "</style>\n",
              "<table border=\"1\" class=\"dataframe\">\n",
              "  <thead>\n",
              "    <tr style=\"text-align: right;\">\n",
              "      <th></th>\n",
              "      <th>id</th>\n",
              "      <th>A1_Score</th>\n",
              "      <th>A2_Score</th>\n",
              "      <th>A3_Score</th>\n",
              "      <th>A4_Score</th>\n",
              "      <th>A5_Score</th>\n",
              "      <th>A6_Score</th>\n",
              "      <th>A7_Score</th>\n",
              "      <th>A8_Score</th>\n",
              "      <th>A9_Score</th>\n",
              "      <th>A10_Score</th>\n",
              "      <th>age</th>\n",
              "      <th>gender</th>\n",
              "      <th>ethnicity</th>\n",
              "      <th>jundice</th>\n",
              "      <th>austim</th>\n",
              "      <th>contry_of_res</th>\n",
              "      <th>used_app_before</th>\n",
              "      <th>result</th>\n",
              "      <th>age_desc</th>\n",
              "      <th>relation</th>\n",
              "      <th>Class/ASD</th>\n",
              "    </tr>\n",
              "  </thead>\n",
              "  <tbody>\n",
              "    <tr>\n",
              "      <th>0</th>\n",
              "      <td>1</td>\n",
              "      <td>1</td>\n",
              "      <td>1</td>\n",
              "      <td>0</td>\n",
              "      <td>0</td>\n",
              "      <td>1</td>\n",
              "      <td>1</td>\n",
              "      <td>0</td>\n",
              "      <td>1</td>\n",
              "      <td>0</td>\n",
              "      <td>0</td>\n",
              "      <td>6</td>\n",
              "      <td>m</td>\n",
              "      <td>Others</td>\n",
              "      <td>no</td>\n",
              "      <td>no</td>\n",
              "      <td>Jordan</td>\n",
              "      <td>no</td>\n",
              "      <td>5</td>\n",
              "      <td>4-11 years</td>\n",
              "      <td>Parent</td>\n",
              "      <td>NO</td>\n",
              "    </tr>\n",
              "    <tr>\n",
              "      <th>1</th>\n",
              "      <td>2</td>\n",
              "      <td>1</td>\n",
              "      <td>1</td>\n",
              "      <td>0</td>\n",
              "      <td>0</td>\n",
              "      <td>1</td>\n",
              "      <td>1</td>\n",
              "      <td>0</td>\n",
              "      <td>1</td>\n",
              "      <td>0</td>\n",
              "      <td>0</td>\n",
              "      <td>6</td>\n",
              "      <td>m</td>\n",
              "      <td>Middle Eastern</td>\n",
              "      <td>no</td>\n",
              "      <td>no</td>\n",
              "      <td>Jordan</td>\n",
              "      <td>no</td>\n",
              "      <td>5</td>\n",
              "      <td>4-11 years</td>\n",
              "      <td>Parent</td>\n",
              "      <td>NO</td>\n",
              "    </tr>\n",
              "    <tr>\n",
              "      <th>2</th>\n",
              "      <td>3</td>\n",
              "      <td>1</td>\n",
              "      <td>1</td>\n",
              "      <td>0</td>\n",
              "      <td>0</td>\n",
              "      <td>0</td>\n",
              "      <td>1</td>\n",
              "      <td>1</td>\n",
              "      <td>1</td>\n",
              "      <td>0</td>\n",
              "      <td>0</td>\n",
              "      <td>6</td>\n",
              "      <td>m</td>\n",
              "      <td>?</td>\n",
              "      <td>no</td>\n",
              "      <td>no</td>\n",
              "      <td>Jordan</td>\n",
              "      <td>yes</td>\n",
              "      <td>5</td>\n",
              "      <td>4-11 years</td>\n",
              "      <td>?</td>\n",
              "      <td>NO</td>\n",
              "    </tr>\n",
              "    <tr>\n",
              "      <th>3</th>\n",
              "      <td>4</td>\n",
              "      <td>0</td>\n",
              "      <td>1</td>\n",
              "      <td>0</td>\n",
              "      <td>0</td>\n",
              "      <td>1</td>\n",
              "      <td>1</td>\n",
              "      <td>0</td>\n",
              "      <td>0</td>\n",
              "      <td>0</td>\n",
              "      <td>1</td>\n",
              "      <td>5</td>\n",
              "      <td>f</td>\n",
              "      <td>?</td>\n",
              "      <td>yes</td>\n",
              "      <td>no</td>\n",
              "      <td>Jordan</td>\n",
              "      <td>no</td>\n",
              "      <td>4</td>\n",
              "      <td>4-11 years</td>\n",
              "      <td>?</td>\n",
              "      <td>NO</td>\n",
              "    </tr>\n",
              "    <tr>\n",
              "      <th>4</th>\n",
              "      <td>5</td>\n",
              "      <td>1</td>\n",
              "      <td>1</td>\n",
              "      <td>1</td>\n",
              "      <td>1</td>\n",
              "      <td>1</td>\n",
              "      <td>1</td>\n",
              "      <td>1</td>\n",
              "      <td>1</td>\n",
              "      <td>1</td>\n",
              "      <td>1</td>\n",
              "      <td>5</td>\n",
              "      <td>m</td>\n",
              "      <td>Others</td>\n",
              "      <td>yes</td>\n",
              "      <td>no</td>\n",
              "      <td>United States</td>\n",
              "      <td>no</td>\n",
              "      <td>10</td>\n",
              "      <td>4-11 years</td>\n",
              "      <td>Parent</td>\n",
              "      <td>YES</td>\n",
              "    </tr>\n",
              "  </tbody>\n",
              "</table>\n",
              "</div>"
            ],
            "text/plain": [
              "   id  A1_Score  A2_Score  A3_Score  ...  result    age_desc  relation  Class/ASD\n",
              "0   1         1         1         0  ...       5  4-11 years    Parent         NO\n",
              "1   2         1         1         0  ...       5  4-11 years    Parent         NO\n",
              "2   3         1         1         0  ...       5  4-11 years         ?         NO\n",
              "3   4         0         1         0  ...       4  4-11 years         ?         NO\n",
              "4   5         1         1         1  ...      10  4-11 years    Parent        YES\n",
              "\n",
              "[5 rows x 22 columns]"
            ]
          },
          "metadata": {
            "tags": []
          }
        }
      ]
    },
    {
      "cell_type": "code",
      "metadata": {
        "id": "c-Qf614lW1DW",
        "colab_type": "code",
        "outputId": "f242eed1-fead-459d-ce41-8da0577d8340",
        "colab": {
          "base_uri": "https://localhost:8080/",
          "height": 85
        }
      },
      "source": [
        "# Total number of records\n",
        "n_records = len(data.index)\n",
        "\n",
        "# TODO: Number of records where individual's with ASD\n",
        "n_asd_yes = len(data[data['Class/ASD'] == 'YES'])\n",
        "\n",
        "# TODO: Number of records where individual's with no ASD\n",
        "n_asd_no = len(data[data['Class/ASD'] == 'NO'])\n",
        "\n",
        "# TODO: Percentage of individuals whose are with ASD\n",
        "yes_percent = float(n_asd_yes) / n_records *100\n",
        "\n",
        "# Print the results\n",
        "print(\"Total number of records: {}\".format(n_records))\n",
        "print(\"Individuals diagonised with ASD: {}\".format(n_asd_yes))\n",
        "print(\"Individuals not diagonised with ASD: {}\".format(n_asd_no))\n",
        "print(\"Percentage of individuals diagonised with ASD: {:.2f}%\".format(yes_percent))"
      ],
      "execution_count": 2,
      "outputs": [
        {
          "output_type": "stream",
          "text": [
            "Total number of records: 292\n",
            "Individuals diagonised with ASD: 141\n",
            "Individuals not diagonised with ASD: 151\n",
            "Percentage of individuals diagonised with ASD: 48.29%\n"
          ],
          "name": "stdout"
        }
      ]
    },
    {
      "cell_type": "markdown",
      "metadata": {
        "id": "TFlkdNvnXHw7",
        "colab_type": "text"
      },
      "source": [
        "**Featureset Exploration**\n",
        "\n",
        "This data contains 292 instances, and contains the following attributes:\n",
        "\n",
        "* **age**: number (Age in years).\n",
        "* **gender**: String [Male/Female].\n",
        "* **ethnicity**: String (List of common ethnicities in text format).\n",
        "* **Born with jaundice**: Boolean [yes or no].\n",
        "* **Family member with PDD**: Boolean [yes or no].\n",
        "* **Who is completing the test**: String [Parent, self, caregiver, medical staff, clinician ,etc.].\n",
        "* **Country of residence** : String (List of countries in text format).\n",
        "* **Used the screening app before** : Boolean [yes or no] (Whether the user has used a screening app)\n",
        "* **Screening Method Type**: Integer [0,1,2,3] (The type of screening methods chosen based on age category (0=toddler, 1=child, 2= adolescent, 3= adult).\n",
        "* **Question 1-10 Answer**: Binary [0, 1] (The answer code of the question based on the screening method used).\n",
        "* **Screening Score**: Integer (The final score obtained based on the scoring algorithm of the screening method used. This was computed in an automated manner)."
      ]
    },
    {
      "cell_type": "markdown",
      "metadata": {
        "id": "tlPWFa9JZ3ff",
        "colab_type": "text"
      },
      "source": [
        "## Preparing the Data\n",
        "Before data can be used as input for machine learning algorithms, it must be cleaned, formatted, and maybe even restructured — this is typically known as preprocessing. Unfortunately, for this dataset, there are many invalid or missing entries(?) we must deal with, moreover, there are some qualities about certain features that must be adjusted. This preprocessing can help tremendously with the outcome and predictive power of nearly all learning algorithms.\n",
        "\n",
        "I use the optional parmaters in read_csv to convert missing data (indicated by a ?) into NaN, and to add the appropriate column names ():"
      ]
    },
    {
      "cell_type": "code",
      "metadata": {
        "id": "Ds6uYOq2JTLC",
        "colab_type": "code",
        "outputId": "a1950e7b-ae7e-4392-9dd1-9bd315161051",
        "colab": {
          "base_uri": "https://localhost:8080/",
          "height": 297
        }
      },
      "source": [
        "data.describe()"
      ],
      "execution_count": 3,
      "outputs": [
        {
          "output_type": "execute_result",
          "data": {
            "text/html": [
              "<div>\n",
              "<style scoped>\n",
              "    .dataframe tbody tr th:only-of-type {\n",
              "        vertical-align: middle;\n",
              "    }\n",
              "\n",
              "    .dataframe tbody tr th {\n",
              "        vertical-align: top;\n",
              "    }\n",
              "\n",
              "    .dataframe thead th {\n",
              "        text-align: right;\n",
              "    }\n",
              "</style>\n",
              "<table border=\"1\" class=\"dataframe\">\n",
              "  <thead>\n",
              "    <tr style=\"text-align: right;\">\n",
              "      <th></th>\n",
              "      <th>id</th>\n",
              "      <th>A1_Score</th>\n",
              "      <th>A2_Score</th>\n",
              "      <th>A3_Score</th>\n",
              "      <th>A4_Score</th>\n",
              "      <th>A5_Score</th>\n",
              "      <th>A6_Score</th>\n",
              "      <th>A7_Score</th>\n",
              "      <th>A8_Score</th>\n",
              "      <th>A9_Score</th>\n",
              "      <th>A10_Score</th>\n",
              "      <th>result</th>\n",
              "    </tr>\n",
              "  </thead>\n",
              "  <tbody>\n",
              "    <tr>\n",
              "      <th>count</th>\n",
              "      <td>292.000000</td>\n",
              "      <td>292.000000</td>\n",
              "      <td>292.000000</td>\n",
              "      <td>292.000000</td>\n",
              "      <td>292.000000</td>\n",
              "      <td>292.000000</td>\n",
              "      <td>292.000000</td>\n",
              "      <td>292.000000</td>\n",
              "      <td>292.000000</td>\n",
              "      <td>292.000000</td>\n",
              "      <td>292.000000</td>\n",
              "      <td>292.000000</td>\n",
              "    </tr>\n",
              "    <tr>\n",
              "      <th>mean</th>\n",
              "      <td>146.500000</td>\n",
              "      <td>0.633562</td>\n",
              "      <td>0.534247</td>\n",
              "      <td>0.743151</td>\n",
              "      <td>0.551370</td>\n",
              "      <td>0.743151</td>\n",
              "      <td>0.712329</td>\n",
              "      <td>0.606164</td>\n",
              "      <td>0.496575</td>\n",
              "      <td>0.493151</td>\n",
              "      <td>0.726027</td>\n",
              "      <td>6.239726</td>\n",
              "    </tr>\n",
              "    <tr>\n",
              "      <th>std</th>\n",
              "      <td>84.437354</td>\n",
              "      <td>0.482658</td>\n",
              "      <td>0.499682</td>\n",
              "      <td>0.437646</td>\n",
              "      <td>0.498208</td>\n",
              "      <td>0.437646</td>\n",
              "      <td>0.453454</td>\n",
              "      <td>0.489438</td>\n",
              "      <td>0.500847</td>\n",
              "      <td>0.500811</td>\n",
              "      <td>0.446761</td>\n",
              "      <td>2.284882</td>\n",
              "    </tr>\n",
              "    <tr>\n",
              "      <th>min</th>\n",
              "      <td>1.000000</td>\n",
              "      <td>0.000000</td>\n",
              "      <td>0.000000</td>\n",
              "      <td>0.000000</td>\n",
              "      <td>0.000000</td>\n",
              "      <td>0.000000</td>\n",
              "      <td>0.000000</td>\n",
              "      <td>0.000000</td>\n",
              "      <td>0.000000</td>\n",
              "      <td>0.000000</td>\n",
              "      <td>0.000000</td>\n",
              "      <td>0.000000</td>\n",
              "    </tr>\n",
              "    <tr>\n",
              "      <th>25%</th>\n",
              "      <td>73.750000</td>\n",
              "      <td>0.000000</td>\n",
              "      <td>0.000000</td>\n",
              "      <td>0.000000</td>\n",
              "      <td>0.000000</td>\n",
              "      <td>0.000000</td>\n",
              "      <td>0.000000</td>\n",
              "      <td>0.000000</td>\n",
              "      <td>0.000000</td>\n",
              "      <td>0.000000</td>\n",
              "      <td>0.000000</td>\n",
              "      <td>5.000000</td>\n",
              "    </tr>\n",
              "    <tr>\n",
              "      <th>50%</th>\n",
              "      <td>146.500000</td>\n",
              "      <td>1.000000</td>\n",
              "      <td>1.000000</td>\n",
              "      <td>1.000000</td>\n",
              "      <td>1.000000</td>\n",
              "      <td>1.000000</td>\n",
              "      <td>1.000000</td>\n",
              "      <td>1.000000</td>\n",
              "      <td>0.000000</td>\n",
              "      <td>0.000000</td>\n",
              "      <td>1.000000</td>\n",
              "      <td>6.000000</td>\n",
              "    </tr>\n",
              "    <tr>\n",
              "      <th>75%</th>\n",
              "      <td>219.250000</td>\n",
              "      <td>1.000000</td>\n",
              "      <td>1.000000</td>\n",
              "      <td>1.000000</td>\n",
              "      <td>1.000000</td>\n",
              "      <td>1.000000</td>\n",
              "      <td>1.000000</td>\n",
              "      <td>1.000000</td>\n",
              "      <td>1.000000</td>\n",
              "      <td>1.000000</td>\n",
              "      <td>1.000000</td>\n",
              "      <td>8.000000</td>\n",
              "    </tr>\n",
              "    <tr>\n",
              "      <th>max</th>\n",
              "      <td>292.000000</td>\n",
              "      <td>1.000000</td>\n",
              "      <td>1.000000</td>\n",
              "      <td>1.000000</td>\n",
              "      <td>1.000000</td>\n",
              "      <td>1.000000</td>\n",
              "      <td>1.000000</td>\n",
              "      <td>1.000000</td>\n",
              "      <td>1.000000</td>\n",
              "      <td>1.000000</td>\n",
              "      <td>1.000000</td>\n",
              "      <td>10.000000</td>\n",
              "    </tr>\n",
              "  </tbody>\n",
              "</table>\n",
              "</div>"
            ],
            "text/plain": [
              "               id    A1_Score    A2_Score  ...    A9_Score   A10_Score      result\n",
              "count  292.000000  292.000000  292.000000  ...  292.000000  292.000000  292.000000\n",
              "mean   146.500000    0.633562    0.534247  ...    0.493151    0.726027    6.239726\n",
              "std     84.437354    0.482658    0.499682  ...    0.500811    0.446761    2.284882\n",
              "min      1.000000    0.000000    0.000000  ...    0.000000    0.000000    0.000000\n",
              "25%     73.750000    0.000000    0.000000  ...    0.000000    0.000000    5.000000\n",
              "50%    146.500000    1.000000    1.000000  ...    0.000000    1.000000    6.000000\n",
              "75%    219.250000    1.000000    1.000000  ...    1.000000    1.000000    8.000000\n",
              "max    292.000000    1.000000    1.000000  ...    1.000000    1.000000   10.000000\n",
              "\n",
              "[8 rows x 12 columns]"
            ]
          },
          "metadata": {
            "tags": []
          },
          "execution_count": 3
        }
      ]
    },
    {
      "cell_type": "markdown",
      "metadata": {
        "id": "KBLdJ70maMen",
        "colab_type": "text"
      },
      "source": [
        "There are quite a few missing values in the data set. Before I just drop every row that's missing data, I make sure not to bias the data in any way. In other words we need to make sure that there does not appear to be any sort of correlation to what sort of data has missing fields. If there were, I'd have to try and go back and fill that data in."
      ]
    },
    {
      "cell_type": "markdown",
      "metadata": {
        "id": "TNfeYYxzaiMK",
        "colab_type": "text"
      },
      "source": [
        "Since the missing data seems randomly distributed, I go ahead and drop rows with missing data."
      ]
    },
    {
      "cell_type": "code",
      "metadata": {
        "id": "u2t6ht35ajPp",
        "colab_type": "code",
        "outputId": "d3bb2483-5cd2-446d-debf-8e0fd273e5c2",
        "colab": {
          "base_uri": "https://localhost:8080/",
          "height": 297
        }
      },
      "source": [
        "data.dropna(inplace=True)\n",
        "data.describe()"
      ],
      "execution_count": 4,
      "outputs": [
        {
          "output_type": "execute_result",
          "data": {
            "text/html": [
              "<div>\n",
              "<style scoped>\n",
              "    .dataframe tbody tr th:only-of-type {\n",
              "        vertical-align: middle;\n",
              "    }\n",
              "\n",
              "    .dataframe tbody tr th {\n",
              "        vertical-align: top;\n",
              "    }\n",
              "\n",
              "    .dataframe thead th {\n",
              "        text-align: right;\n",
              "    }\n",
              "</style>\n",
              "<table border=\"1\" class=\"dataframe\">\n",
              "  <thead>\n",
              "    <tr style=\"text-align: right;\">\n",
              "      <th></th>\n",
              "      <th>id</th>\n",
              "      <th>A1_Score</th>\n",
              "      <th>A2_Score</th>\n",
              "      <th>A3_Score</th>\n",
              "      <th>A4_Score</th>\n",
              "      <th>A5_Score</th>\n",
              "      <th>A6_Score</th>\n",
              "      <th>A7_Score</th>\n",
              "      <th>A8_Score</th>\n",
              "      <th>A9_Score</th>\n",
              "      <th>A10_Score</th>\n",
              "      <th>result</th>\n",
              "    </tr>\n",
              "  </thead>\n",
              "  <tbody>\n",
              "    <tr>\n",
              "      <th>count</th>\n",
              "      <td>292.000000</td>\n",
              "      <td>292.000000</td>\n",
              "      <td>292.000000</td>\n",
              "      <td>292.000000</td>\n",
              "      <td>292.000000</td>\n",
              "      <td>292.000000</td>\n",
              "      <td>292.000000</td>\n",
              "      <td>292.000000</td>\n",
              "      <td>292.000000</td>\n",
              "      <td>292.000000</td>\n",
              "      <td>292.000000</td>\n",
              "      <td>292.000000</td>\n",
              "    </tr>\n",
              "    <tr>\n",
              "      <th>mean</th>\n",
              "      <td>146.500000</td>\n",
              "      <td>0.633562</td>\n",
              "      <td>0.534247</td>\n",
              "      <td>0.743151</td>\n",
              "      <td>0.551370</td>\n",
              "      <td>0.743151</td>\n",
              "      <td>0.712329</td>\n",
              "      <td>0.606164</td>\n",
              "      <td>0.496575</td>\n",
              "      <td>0.493151</td>\n",
              "      <td>0.726027</td>\n",
              "      <td>6.239726</td>\n",
              "    </tr>\n",
              "    <tr>\n",
              "      <th>std</th>\n",
              "      <td>84.437354</td>\n",
              "      <td>0.482658</td>\n",
              "      <td>0.499682</td>\n",
              "      <td>0.437646</td>\n",
              "      <td>0.498208</td>\n",
              "      <td>0.437646</td>\n",
              "      <td>0.453454</td>\n",
              "      <td>0.489438</td>\n",
              "      <td>0.500847</td>\n",
              "      <td>0.500811</td>\n",
              "      <td>0.446761</td>\n",
              "      <td>2.284882</td>\n",
              "    </tr>\n",
              "    <tr>\n",
              "      <th>min</th>\n",
              "      <td>1.000000</td>\n",
              "      <td>0.000000</td>\n",
              "      <td>0.000000</td>\n",
              "      <td>0.000000</td>\n",
              "      <td>0.000000</td>\n",
              "      <td>0.000000</td>\n",
              "      <td>0.000000</td>\n",
              "      <td>0.000000</td>\n",
              "      <td>0.000000</td>\n",
              "      <td>0.000000</td>\n",
              "      <td>0.000000</td>\n",
              "      <td>0.000000</td>\n",
              "    </tr>\n",
              "    <tr>\n",
              "      <th>25%</th>\n",
              "      <td>73.750000</td>\n",
              "      <td>0.000000</td>\n",
              "      <td>0.000000</td>\n",
              "      <td>0.000000</td>\n",
              "      <td>0.000000</td>\n",
              "      <td>0.000000</td>\n",
              "      <td>0.000000</td>\n",
              "      <td>0.000000</td>\n",
              "      <td>0.000000</td>\n",
              "      <td>0.000000</td>\n",
              "      <td>0.000000</td>\n",
              "      <td>5.000000</td>\n",
              "    </tr>\n",
              "    <tr>\n",
              "      <th>50%</th>\n",
              "      <td>146.500000</td>\n",
              "      <td>1.000000</td>\n",
              "      <td>1.000000</td>\n",
              "      <td>1.000000</td>\n",
              "      <td>1.000000</td>\n",
              "      <td>1.000000</td>\n",
              "      <td>1.000000</td>\n",
              "      <td>1.000000</td>\n",
              "      <td>0.000000</td>\n",
              "      <td>0.000000</td>\n",
              "      <td>1.000000</td>\n",
              "      <td>6.000000</td>\n",
              "    </tr>\n",
              "    <tr>\n",
              "      <th>75%</th>\n",
              "      <td>219.250000</td>\n",
              "      <td>1.000000</td>\n",
              "      <td>1.000000</td>\n",
              "      <td>1.000000</td>\n",
              "      <td>1.000000</td>\n",
              "      <td>1.000000</td>\n",
              "      <td>1.000000</td>\n",
              "      <td>1.000000</td>\n",
              "      <td>1.000000</td>\n",
              "      <td>1.000000</td>\n",
              "      <td>1.000000</td>\n",
              "      <td>8.000000</td>\n",
              "    </tr>\n",
              "    <tr>\n",
              "      <th>max</th>\n",
              "      <td>292.000000</td>\n",
              "      <td>1.000000</td>\n",
              "      <td>1.000000</td>\n",
              "      <td>1.000000</td>\n",
              "      <td>1.000000</td>\n",
              "      <td>1.000000</td>\n",
              "      <td>1.000000</td>\n",
              "      <td>1.000000</td>\n",
              "      <td>1.000000</td>\n",
              "      <td>1.000000</td>\n",
              "      <td>1.000000</td>\n",
              "      <td>10.000000</td>\n",
              "    </tr>\n",
              "  </tbody>\n",
              "</table>\n",
              "</div>"
            ],
            "text/plain": [
              "               id    A1_Score    A2_Score  ...    A9_Score   A10_Score      result\n",
              "count  292.000000  292.000000  292.000000  ...  292.000000  292.000000  292.000000\n",
              "mean   146.500000    0.633562    0.534247  ...    0.493151    0.726027    6.239726\n",
              "std     84.437354    0.482658    0.499682  ...    0.500811    0.446761    2.284882\n",
              "min      1.000000    0.000000    0.000000  ...    0.000000    0.000000    0.000000\n",
              "25%     73.750000    0.000000    0.000000  ...    0.000000    0.000000    5.000000\n",
              "50%    146.500000    1.000000    1.000000  ...    0.000000    1.000000    6.000000\n",
              "75%    219.250000    1.000000    1.000000  ...    1.000000    1.000000    8.000000\n",
              "max    292.000000    1.000000    1.000000  ...    1.000000    1.000000   10.000000\n",
              "\n",
              "[8 rows x 12 columns]"
            ]
          },
          "metadata": {
            "tags": []
          },
          "execution_count": 4
        }
      ]
    },
    {
      "cell_type": "markdown",
      "metadata": {
        "id": "9NHCn-sCaujB",
        "colab_type": "text"
      },
      "source": [
        "**If we could have fill with median values for 'NaN' instead of dropping them, but in this situation that is little complicated as I have lot of categorical colums with 'NaN'.**"
      ]
    },
    {
      "cell_type": "code",
      "metadata": {
        "id": "-AcfQNxOaxoS",
        "colab_type": "code",
        "colab": {}
      },
      "source": [
        "#_data.median()\n",
        "#numerical = ['age', 'result']\n",
        "#data.fillna(data[numerical].median())\n",
        "#data.describe()"
      ],
      "execution_count": 0,
      "outputs": []
    },
    {
      "cell_type": "markdown",
      "metadata": {
        "id": "fsMbKvd0a23V",
        "colab_type": "text"
      },
      "source": [
        "Let's check out the data types of all our features including the target feature. Moreover, lets count the total number of instances and the target-class distribution."
      ]
    },
    {
      "cell_type": "code",
      "metadata": {
        "id": "zr_M9mejJtnI",
        "colab_type": "code",
        "outputId": "b0c5edd0-1dc0-46f9-c1c3-faf945153ce5",
        "colab": {
          "base_uri": "https://localhost:8080/",
          "height": 459
        }
      },
      "source": [
        "# Reminder of the features:\n",
        "print(data.dtypes)\n",
        "\n",
        "# Total number of records in clean dataset\n",
        "n_records = len(data.index)\n",
        "\n",
        "# TODO: Number of records where individual's with ASD in the clean dataset\n",
        "n_asd_yes = len(data[data['Class/ASD'] == 'YES'])\n",
        "\n",
        "# TODO: Number of records where individual's with no ASD in the clean dataset\n",
        "n_asd_no = len(data[data['Class/ASD'] == 'NO'])\n",
        "\n",
        "# Print the results\n",
        "print(\"Total number of records: {}\".format(n_records))\n",
        "print(\"Individuals diagonised with ASD: {}\".format(n_asd_yes))\n",
        "print(\"Individuals not diagonised with ASD: {}\".format(n_asd_no))"
      ],
      "execution_count": 6,
      "outputs": [
        {
          "output_type": "stream",
          "text": [
            "id                  int64\n",
            "A1_Score            int64\n",
            "A2_Score            int64\n",
            "A3_Score            int64\n",
            "A4_Score            int64\n",
            "A5_Score            int64\n",
            "A6_Score            int64\n",
            "A7_Score            int64\n",
            "A8_Score            int64\n",
            "A9_Score            int64\n",
            "A10_Score           int64\n",
            "age                object\n",
            "gender             object\n",
            "ethnicity          object\n",
            "jundice            object\n",
            "austim             object\n",
            "contry_of_res      object\n",
            "used_app_before    object\n",
            "result              int64\n",
            "age_desc           object\n",
            "relation           object\n",
            "Class/ASD          object\n",
            "dtype: object\n",
            "Total number of records: 292\n",
            "Individuals diagonised with ASD: 141\n",
            "Individuals not diagonised with ASD: 151\n"
          ],
          "name": "stdout"
        }
      ]
    },
    {
      "cell_type": "markdown",
      "metadata": {
        "id": "OUSzFI0NbNZo",
        "colab_type": "text"
      },
      "source": [
        "## **A quick visualization with Seaborn**"
      ]
    },
    {
      "cell_type": "code",
      "metadata": {
        "id": "SgACtMCpbR4q",
        "colab_type": "code",
        "outputId": "d7a92aea-56bc-4d65-d6f3-f11bb3821edf",
        "colab": {
          "base_uri": "https://localhost:8080/",
          "height": 71
        }
      },
      "source": [
        "import seaborn as sns\n",
        "import matplotlib.pyplot as plt\n",
        "sns.set(style=\"whitegrid\", color_codes=True)"
      ],
      "execution_count": 7,
      "outputs": [
        {
          "output_type": "stream",
          "text": [
            "/usr/local/lib/python3.6/dist-packages/statsmodels/tools/_testing.py:19: FutureWarning: pandas.util.testing is deprecated. Use the functions in the public API at pandas.testing instead.\n",
            "  import pandas.util.testing as tm\n"
          ],
          "name": "stderr"
        }
      ]
    },
    {
      "cell_type": "code",
      "metadata": {
        "id": "_HU-bH68bVtH",
        "colab_type": "code",
        "outputId": "da0453c2-228b-4406-f181-e273cd3488a5",
        "colab": {
          "base_uri": "https://localhost:8080/",
          "height": 285
        }
      },
      "source": [
        "# Draw a nested violinplot and split the violins for easier comparison\n",
        "sns.violinplot(x=\"jundice\", y=\"result\", hue=\"austim\", data=data, split=True, inner=\"quart\", palette={'yes': \"r\", 'no': \"b\"})\n",
        "sns.despine(left=True)"
      ],
      "execution_count": 8,
      "outputs": [
        {
          "output_type": "display_data",
          "data": {
            "image/png": "[encoded data removed]",
            "text/plain": [
              "<Figure size 432x288 with 1 Axes>"
            ]
          },
          "metadata": {
            "tags": []
          }
        }
      ]
    },
    {
      "cell_type": "code",
      "metadata": {
        "id": "uf-dzMgybdof",
        "colab_type": "code",
        "outputId": "4be9a746-919e-4543-97d1-7eb69874c96f",
        "colab": {
          "base_uri": "https://localhost:8080/",
          "height": 285
        }
      },
      "source": [
        "# Draw a nested violinplot and split the violins for easier comparison\n",
        "sns.violinplot(x=\"jundice\", y=\"result\", hue=\"Class/ASD\", data=data, split=True, inner=\"quart\", palette={'YES': \"r\", 'NO': \"b\"})\n",
        "sns.despine(left=True)"
      ],
      "execution_count": 9,
      "outputs": [
        {
          "output_type": "display_data",
          "data": {
            "image/png": "[encoded data removed]",
            "text/plain": [
              "<Figure size 432x288 with 1 Axes>"
            ]
          },
          "metadata": {
            "tags": []
          }
        }
      ]
    },
    {
      "cell_type": "code",
      "metadata": {
        "id": "YPQQZ9n3bjcI",
        "colab_type": "code",
        "outputId": "0c741410-becb-48bc-8d5a-70ba67a44d1f",
        "colab": {
          "base_uri": "https://localhost:8080/",
          "height": 285
        }
      },
      "source": [
        "# Draw a nested violinplot and split the violins for easier comparison\n",
        "sns.violinplot(x=\"gender\", y=\"result\", hue=\"Class/ASD\", data=data, split=True, inner=\"quart\", palette={'YES': \"r\", 'NO': \"b\"})\n",
        "sns.despine(left=True)"
      ],
      "execution_count": 10,
      "outputs": [
        {
          "output_type": "display_data",
          "data": {
            "image/png": "[encoded data removed]",
            "text/plain": [
              "<Figure size 432x288 with 1 Axes>"
            ]
          },
          "metadata": {
            "tags": []
          }
        }
      ]
    },
    {
      "cell_type": "code",
      "metadata": {
        "id": "SC7tsLW-bpAJ",
        "colab_type": "code",
        "outputId": "6efd65c5-398a-48f0-f4d2-e43a3629e081",
        "colab": {
          "base_uri": "https://localhost:8080/",
          "height": 436
        }
      },
      "source": [
        "sns.factorplot(x=\"jundice\", y=\"result\", hue=\"Class/ASD\", col=\"gender\", data=data, kind=\"swarm\")"
      ],
      "execution_count": 11,
      "outputs": [
        {
          "output_type": "stream",
          "text": [
            "/usr/local/lib/python3.6/dist-packages/seaborn/categorical.py:3669: UserWarning: The `factorplot` function has been renamed to `catplot`. The original name will be removed in a future release. Please update your code. Note that the default `kind` in `factorplot` (`'point'`) has changed `'strip'` in `catplot`.\n",
            "  warnings.warn(msg)\n"
          ],
          "name": "stderr"
        },
        {
          "output_type": "execute_result",
          "data": {
            "text/plain": [
              "<seaborn.axisgrid.FacetGrid at 0x7f656788bc50>"
            ]
          },
          "metadata": {
            "tags": []
          },
          "execution_count": 11
        },
        {
          "output_type": "display_data",
          "data": {
            "image/png": "[encoded data removed]",
            "text/plain": [
              "<Figure size 780.675x360 with 2 Axes>"
            ]
          },
          "metadata": {
            "tags": []
          }
        }
      ]
    },
    {
      "cell_type": "code",
      "metadata": {
        "id": "Un92y-cJbyTh",
        "colab_type": "code",
        "outputId": "c0e120c2-a1f9-4bd1-a87a-d9e7cbb3c796",
        "colab": {
          "base_uri": "https://localhost:8080/",
          "height": 381
        }
      },
      "source": [
        "sns.factorplot(x=\"gender\", y=\"result\", hue=\"Class/ASD\", col=\"relation\", data=data, kind=\"box\", size=4, aspect=.5, palette={'YES': \"r\", 'NO': \"b\"});"
      ],
      "execution_count": 12,
      "outputs": [
        {
          "output_type": "stream",
          "text": [
            "/usr/local/lib/python3.6/dist-packages/seaborn/categorical.py:3669: UserWarning: The `factorplot` function has been renamed to `catplot`. The original name will be removed in a future release. Please update your code. Note that the default `kind` in `factorplot` (`'point'`) has changed `'strip'` in `catplot`.\n",
            "  warnings.warn(msg)\n",
            "/usr/local/lib/python3.6/dist-packages/seaborn/categorical.py:3675: UserWarning: The `size` parameter has been renamed to `height`; please update your code.\n",
            "  warnings.warn(msg, UserWarning)\n"
          ],
          "name": "stderr"
        },
        {
          "output_type": "display_data",
          "data": {
            "image/png": "[encoded data removed]",
            "text/plain": [
              "<Figure size 924.675x288 with 6 Axes>"
            ]
          },
          "metadata": {
            "tags": []
          }
        }
      ]
    },
    {
      "cell_type": "code",
      "metadata": {
        "id": "5F6aRAC4b4tf",
        "colab_type": "code",
        "outputId": "3801cda6-889d-4684-9126-1cddbf349d2b",
        "colab": {
          "base_uri": "https://localhost:8080/",
          "height": 957
        }
      },
      "source": [
        "g = sns.factorplot(x=\"result\", y=\"jundice\", hue=\"gender\", row=\"relation\", data=data, orient=\"h\", size=2, aspect=3.5, palette={'f': \"r\", 'm': \"b\"}, kind=\"violin\", dodge=True, cut=0, bw=.2)"
      ],
      "execution_count": 13,
      "outputs": [
        {
          "output_type": "stream",
          "text": [
            "/usr/local/lib/python3.6/dist-packages/seaborn/categorical.py:3669: UserWarning: The `factorplot` function has been renamed to `catplot`. The original name will be removed in a future release. Please update your code. Note that the default `kind` in `factorplot` (`'point'`) has changed `'strip'` in `catplot`.\n",
            "  warnings.warn(msg)\n",
            "/usr/local/lib/python3.6/dist-packages/seaborn/categorical.py:3675: UserWarning: The `size` parameter has been renamed to `height`; please update your code.\n",
            "  warnings.warn(msg, UserWarning)\n"
          ],
          "name": "stderr"
        },
        {
          "output_type": "display_data",
          "data": {
            "image/png": "[encoded data removed]",
            "text/plain": [
              "<Figure size 554.35x864 with 6 Axes>"
            ]
          },
          "metadata": {
            "tags": []
          }
        }
      ]
    },
    {
      "cell_type": "markdown",
      "metadata": {
        "id": "rD19cxOycEvf",
        "colab_type": "text"
      },
      "source": [
        "In the two figures above, I have used two different depiction techniques to have a quick peek on the ASD dataset we are dealing with. Both of the occasions I have used factorplot module from seaborn visualization software. In the first case, I used 'swamp' kind of graph expressing the relationship between several different features present in the data whereas in the second case, 'box' method was used to present the visual way of showing how different features were associated with each other.\n",
        "\n",
        "Next I'll need to convert the Pandas dataframes into numpy arrays that can be used by scikit_learn. Let's create an array that extracts only the feature data we want to work with and another array that contains the classes (class/ASD)."
      ]
    },
    {
      "cell_type": "markdown",
      "metadata": {
        "id": "bF4GwXb0jGWu",
        "colab_type": "text"
      },
      "source": [
        "## **Data Preprocessing**\n",
        "This dataset is going to require multiple preprocessing steps. First, we have columns in our DataFrame (attributes) that we don't want to use when training our neural network. We will drop these columns first. Secondly, much of our data is reported using strings; as a result, we will convert our data to categorical labels. During our preprocessing, we will also split the dataset into X and Y datasets, where X has all of the attributes we want to use for prediction and Y has the class labels."
      ]
    },
    {
      "cell_type": "code",
      "metadata": {
        "id": "IVR3e4rBjJSK",
        "colab_type": "code",
        "colab": {}
      },
      "source": [
        "# drop unwanted columns\n",
        "data = data.drop(['id', 'result', 'age_desc'], axis=1)"
      ],
      "execution_count": 0,
      "outputs": []
    },
    {
      "cell_type": "code",
      "metadata": {
        "id": "QkPd2KYejRcy",
        "colab_type": "code",
        "colab": {
          "base_uri": "https://localhost:8080/",
          "height": 495
        },
        "outputId": "81e3fa9b-b57c-4eb2-ec36-0eb7e7e1e2ec"
      },
      "source": [
        "data.loc[:10]"
      ],
      "execution_count": 15,
      "outputs": [
        {
          "output_type": "execute_result",
          "data": {
            "text/html": [
              "<div>\n",
              "<style scoped>\n",
              "    .dataframe tbody tr th:only-of-type {\n",
              "        vertical-align: middle;\n",
              "    }\n",
              "\n",
              "    .dataframe tbody tr th {\n",
              "        vertical-align: top;\n",
              "    }\n",
              "\n",
              "    .dataframe thead th {\n",
              "        text-align: right;\n",
              "    }\n",
              "</style>\n",
              "<table border=\"1\" class=\"dataframe\">\n",
              "  <thead>\n",
              "    <tr style=\"text-align: right;\">\n",
              "      <th></th>\n",
              "      <th>A1_Score</th>\n",
              "      <th>A2_Score</th>\n",
              "      <th>A3_Score</th>\n",
              "      <th>A4_Score</th>\n",
              "      <th>A5_Score</th>\n",
              "      <th>A6_Score</th>\n",
              "      <th>A7_Score</th>\n",
              "      <th>A8_Score</th>\n",
              "      <th>A9_Score</th>\n",
              "      <th>A10_Score</th>\n",
              "      <th>age</th>\n",
              "      <th>gender</th>\n",
              "      <th>ethnicity</th>\n",
              "      <th>jundice</th>\n",
              "      <th>austim</th>\n",
              "      <th>contry_of_res</th>\n",
              "      <th>used_app_before</th>\n",
              "      <th>relation</th>\n",
              "      <th>Class/ASD</th>\n",
              "    </tr>\n",
              "  </thead>\n",
              "  <tbody>\n",
              "    <tr>\n",
              "      <th>0</th>\n",
              "      <td>1</td>\n",
              "      <td>1</td>\n",
              "      <td>0</td>\n",
              "      <td>0</td>\n",
              "      <td>1</td>\n",
              "      <td>1</td>\n",
              "      <td>0</td>\n",
              "      <td>1</td>\n",
              "      <td>0</td>\n",
              "      <td>0</td>\n",
              "      <td>6</td>\n",
              "      <td>m</td>\n",
              "      <td>Others</td>\n",
              "      <td>no</td>\n",
              "      <td>no</td>\n",
              "      <td>Jordan</td>\n",
              "      <td>no</td>\n",
              "      <td>Parent</td>\n",
              "      <td>NO</td>\n",
              "    </tr>\n",
              "    <tr>\n",
              "      <th>1</th>\n",
              "      <td>1</td>\n",
              "      <td>1</td>\n",
              "      <td>0</td>\n",
              "      <td>0</td>\n",
              "      <td>1</td>\n",
              "      <td>1</td>\n",
              "      <td>0</td>\n",
              "      <td>1</td>\n",
              "      <td>0</td>\n",
              "      <td>0</td>\n",
              "      <td>6</td>\n",
              "      <td>m</td>\n",
              "      <td>Middle Eastern</td>\n",
              "      <td>no</td>\n",
              "      <td>no</td>\n",
              "      <td>Jordan</td>\n",
              "      <td>no</td>\n",
              "      <td>Parent</td>\n",
              "      <td>NO</td>\n",
              "    </tr>\n",
              "    <tr>\n",
              "      <th>2</th>\n",
              "      <td>1</td>\n",
              "      <td>1</td>\n",
              "      <td>0</td>\n",
              "      <td>0</td>\n",
              "      <td>0</td>\n",
              "      <td>1</td>\n",
              "      <td>1</td>\n",
              "      <td>1</td>\n",
              "      <td>0</td>\n",
              "      <td>0</td>\n",
              "      <td>6</td>\n",
              "      <td>m</td>\n",
              "      <td>?</td>\n",
              "      <td>no</td>\n",
              "      <td>no</td>\n",
              "      <td>Jordan</td>\n",
              "      <td>yes</td>\n",
              "      <td>?</td>\n",
              "      <td>NO</td>\n",
              "    </tr>\n",
              "    <tr>\n",
              "      <th>3</th>\n",
              "      <td>0</td>\n",
              "      <td>1</td>\n",
              "      <td>0</td>\n",
              "      <td>0</td>\n",
              "      <td>1</td>\n",
              "      <td>1</td>\n",
              "      <td>0</td>\n",
              "      <td>0</td>\n",
              "      <td>0</td>\n",
              "      <td>1</td>\n",
              "      <td>5</td>\n",
              "      <td>f</td>\n",
              "      <td>?</td>\n",
              "      <td>yes</td>\n",
              "      <td>no</td>\n",
              "      <td>Jordan</td>\n",
              "      <td>no</td>\n",
              "      <td>?</td>\n",
              "      <td>NO</td>\n",
              "    </tr>\n",
              "    <tr>\n",
              "      <th>4</th>\n",
              "      <td>1</td>\n",
              "      <td>1</td>\n",
              "      <td>1</td>\n",
              "      <td>1</td>\n",
              "      <td>1</td>\n",
              "      <td>1</td>\n",
              "      <td>1</td>\n",
              "      <td>1</td>\n",
              "      <td>1</td>\n",
              "      <td>1</td>\n",
              "      <td>5</td>\n",
              "      <td>m</td>\n",
              "      <td>Others</td>\n",
              "      <td>yes</td>\n",
              "      <td>no</td>\n",
              "      <td>United States</td>\n",
              "      <td>no</td>\n",
              "      <td>Parent</td>\n",
              "      <td>YES</td>\n",
              "    </tr>\n",
              "    <tr>\n",
              "      <th>5</th>\n",
              "      <td>0</td>\n",
              "      <td>0</td>\n",
              "      <td>1</td>\n",
              "      <td>0</td>\n",
              "      <td>1</td>\n",
              "      <td>1</td>\n",
              "      <td>0</td>\n",
              "      <td>1</td>\n",
              "      <td>0</td>\n",
              "      <td>1</td>\n",
              "      <td>4</td>\n",
              "      <td>m</td>\n",
              "      <td>?</td>\n",
              "      <td>no</td>\n",
              "      <td>yes</td>\n",
              "      <td>Egypt</td>\n",
              "      <td>no</td>\n",
              "      <td>?</td>\n",
              "      <td>NO</td>\n",
              "    </tr>\n",
              "    <tr>\n",
              "      <th>6</th>\n",
              "      <td>1</td>\n",
              "      <td>0</td>\n",
              "      <td>1</td>\n",
              "      <td>1</td>\n",
              "      <td>1</td>\n",
              "      <td>1</td>\n",
              "      <td>0</td>\n",
              "      <td>1</td>\n",
              "      <td>0</td>\n",
              "      <td>1</td>\n",
              "      <td>5</td>\n",
              "      <td>m</td>\n",
              "      <td>White-European</td>\n",
              "      <td>no</td>\n",
              "      <td>no</td>\n",
              "      <td>United Kingdom</td>\n",
              "      <td>no</td>\n",
              "      <td>Parent</td>\n",
              "      <td>YES</td>\n",
              "    </tr>\n",
              "    <tr>\n",
              "      <th>7</th>\n",
              "      <td>1</td>\n",
              "      <td>1</td>\n",
              "      <td>1</td>\n",
              "      <td>1</td>\n",
              "      <td>1</td>\n",
              "      <td>1</td>\n",
              "      <td>1</td>\n",
              "      <td>1</td>\n",
              "      <td>0</td>\n",
              "      <td>0</td>\n",
              "      <td>5</td>\n",
              "      <td>f</td>\n",
              "      <td>Middle Eastern</td>\n",
              "      <td>no</td>\n",
              "      <td>no</td>\n",
              "      <td>Bahrain</td>\n",
              "      <td>no</td>\n",
              "      <td>Parent</td>\n",
              "      <td>YES</td>\n",
              "    </tr>\n",
              "    <tr>\n",
              "      <th>8</th>\n",
              "      <td>1</td>\n",
              "      <td>1</td>\n",
              "      <td>1</td>\n",
              "      <td>1</td>\n",
              "      <td>1</td>\n",
              "      <td>1</td>\n",
              "      <td>1</td>\n",
              "      <td>0</td>\n",
              "      <td>0</td>\n",
              "      <td>0</td>\n",
              "      <td>11</td>\n",
              "      <td>f</td>\n",
              "      <td>Middle Eastern</td>\n",
              "      <td>no</td>\n",
              "      <td>no</td>\n",
              "      <td>Bahrain</td>\n",
              "      <td>no</td>\n",
              "      <td>Parent</td>\n",
              "      <td>YES</td>\n",
              "    </tr>\n",
              "    <tr>\n",
              "      <th>9</th>\n",
              "      <td>0</td>\n",
              "      <td>0</td>\n",
              "      <td>1</td>\n",
              "      <td>1</td>\n",
              "      <td>1</td>\n",
              "      <td>0</td>\n",
              "      <td>1</td>\n",
              "      <td>1</td>\n",
              "      <td>0</td>\n",
              "      <td>0</td>\n",
              "      <td>11</td>\n",
              "      <td>f</td>\n",
              "      <td>?</td>\n",
              "      <td>no</td>\n",
              "      <td>yes</td>\n",
              "      <td>Austria</td>\n",
              "      <td>no</td>\n",
              "      <td>?</td>\n",
              "      <td>NO</td>\n",
              "    </tr>\n",
              "    <tr>\n",
              "      <th>10</th>\n",
              "      <td>1</td>\n",
              "      <td>0</td>\n",
              "      <td>0</td>\n",
              "      <td>0</td>\n",
              "      <td>1</td>\n",
              "      <td>1</td>\n",
              "      <td>1</td>\n",
              "      <td>1</td>\n",
              "      <td>1</td>\n",
              "      <td>1</td>\n",
              "      <td>10</td>\n",
              "      <td>m</td>\n",
              "      <td>White-European</td>\n",
              "      <td>yes</td>\n",
              "      <td>no</td>\n",
              "      <td>United Kingdom</td>\n",
              "      <td>no</td>\n",
              "      <td>Self</td>\n",
              "      <td>YES</td>\n",
              "    </tr>\n",
              "  </tbody>\n",
              "</table>\n",
              "</div>"
            ],
            "text/plain": [
              "    A1_Score  A2_Score  A3_Score  ...  used_app_before  relation  Class/ASD\n",
              "0          1         1         0  ...               no    Parent         NO\n",
              "1          1         1         0  ...               no    Parent         NO\n",
              "2          1         1         0  ...              yes         ?         NO\n",
              "3          0         1         0  ...               no         ?         NO\n",
              "4          1         1         1  ...               no    Parent        YES\n",
              "5          0         0         1  ...               no         ?         NO\n",
              "6          1         0         1  ...               no    Parent        YES\n",
              "7          1         1         1  ...               no    Parent        YES\n",
              "8          1         1         1  ...               no    Parent        YES\n",
              "9          0         0         1  ...               no         ?         NO\n",
              "10         1         0         0  ...               no      Self        YES\n",
              "\n",
              "[11 rows x 19 columns]"
            ]
          },
          "metadata": {
            "tags": []
          },
          "execution_count": 15
        }
      ]
    },
    {
      "cell_type": "code",
      "metadata": {
        "id": "QtIQybgojVQT",
        "colab_type": "code",
        "colab": {}
      },
      "source": [
        "# create X and Y datasets for training\n",
        "x = data.drop(['Class/ASD'], 1)\n",
        "y = data['Class/ASD']"
      ],
      "execution_count": 0,
      "outputs": []
    },
    {
      "cell_type": "code",
      "metadata": {
        "id": "bjClmbTyjccy",
        "colab_type": "code",
        "colab": {
          "base_uri": "https://localhost:8080/",
          "height": 495
        },
        "outputId": "d3138691-637b-4f16-b573-f2acbd6f8c4c"
      },
      "source": [
        "x.loc[:10]"
      ],
      "execution_count": 17,
      "outputs": [
        {
          "output_type": "execute_result",
          "data": {
            "text/html": [
              "<div>\n",
              "<style scoped>\n",
              "    .dataframe tbody tr th:only-of-type {\n",
              "        vertical-align: middle;\n",
              "    }\n",
              "\n",
              "    .dataframe tbody tr th {\n",
              "        vertical-align: top;\n",
              "    }\n",
              "\n",
              "    .dataframe thead th {\n",
              "        text-align: right;\n",
              "    }\n",
              "</style>\n",
              "<table border=\"1\" class=\"dataframe\">\n",
              "  <thead>\n",
              "    <tr style=\"text-align: right;\">\n",
              "      <th></th>\n",
              "      <th>A1_Score</th>\n",
              "      <th>A2_Score</th>\n",
              "      <th>A3_Score</th>\n",
              "      <th>A4_Score</th>\n",
              "      <th>A5_Score</th>\n",
              "      <th>A6_Score</th>\n",
              "      <th>A7_Score</th>\n",
              "      <th>A8_Score</th>\n",
              "      <th>A9_Score</th>\n",
              "      <th>A10_Score</th>\n",
              "      <th>age</th>\n",
              "      <th>gender</th>\n",
              "      <th>ethnicity</th>\n",
              "      <th>jundice</th>\n",
              "      <th>austim</th>\n",
              "      <th>contry_of_res</th>\n",
              "      <th>used_app_before</th>\n",
              "      <th>relation</th>\n",
              "    </tr>\n",
              "  </thead>\n",
              "  <tbody>\n",
              "    <tr>\n",
              "      <th>0</th>\n",
              "      <td>1</td>\n",
              "      <td>1</td>\n",
              "      <td>0</td>\n",
              "      <td>0</td>\n",
              "      <td>1</td>\n",
              "      <td>1</td>\n",
              "      <td>0</td>\n",
              "      <td>1</td>\n",
              "      <td>0</td>\n",
              "      <td>0</td>\n",
              "      <td>6</td>\n",
              "      <td>m</td>\n",
              "      <td>Others</td>\n",
              "      <td>no</td>\n",
              "      <td>no</td>\n",
              "      <td>Jordan</td>\n",
              "      <td>no</td>\n",
              "      <td>Parent</td>\n",
              "    </tr>\n",
              "    <tr>\n",
              "      <th>1</th>\n",
              "      <td>1</td>\n",
              "      <td>1</td>\n",
              "      <td>0</td>\n",
              "      <td>0</td>\n",
              "      <td>1</td>\n",
              "      <td>1</td>\n",
              "      <td>0</td>\n",
              "      <td>1</td>\n",
              "      <td>0</td>\n",
              "      <td>0</td>\n",
              "      <td>6</td>\n",
              "      <td>m</td>\n",
              "      <td>Middle Eastern</td>\n",
              "      <td>no</td>\n",
              "      <td>no</td>\n",
              "      <td>Jordan</td>\n",
              "      <td>no</td>\n",
              "      <td>Parent</td>\n",
              "    </tr>\n",
              "    <tr>\n",
              "      <th>2</th>\n",
              "      <td>1</td>\n",
              "      <td>1</td>\n",
              "      <td>0</td>\n",
              "      <td>0</td>\n",
              "      <td>0</td>\n",
              "      <td>1</td>\n",
              "      <td>1</td>\n",
              "      <td>1</td>\n",
              "      <td>0</td>\n",
              "      <td>0</td>\n",
              "      <td>6</td>\n",
              "      <td>m</td>\n",
              "      <td>?</td>\n",
              "      <td>no</td>\n",
              "      <td>no</td>\n",
              "      <td>Jordan</td>\n",
              "      <td>yes</td>\n",
              "      <td>?</td>\n",
              "    </tr>\n",
              "    <tr>\n",
              "      <th>3</th>\n",
              "      <td>0</td>\n",
              "      <td>1</td>\n",
              "      <td>0</td>\n",
              "      <td>0</td>\n",
              "      <td>1</td>\n",
              "      <td>1</td>\n",
              "      <td>0</td>\n",
              "      <td>0</td>\n",
              "      <td>0</td>\n",
              "      <td>1</td>\n",
              "      <td>5</td>\n",
              "      <td>f</td>\n",
              "      <td>?</td>\n",
              "      <td>yes</td>\n",
              "      <td>no</td>\n",
              "      <td>Jordan</td>\n",
              "      <td>no</td>\n",
              "      <td>?</td>\n",
              "    </tr>\n",
              "    <tr>\n",
              "      <th>4</th>\n",
              "      <td>1</td>\n",
              "      <td>1</td>\n",
              "      <td>1</td>\n",
              "      <td>1</td>\n",
              "      <td>1</td>\n",
              "      <td>1</td>\n",
              "      <td>1</td>\n",
              "      <td>1</td>\n",
              "      <td>1</td>\n",
              "      <td>1</td>\n",
              "      <td>5</td>\n",
              "      <td>m</td>\n",
              "      <td>Others</td>\n",
              "      <td>yes</td>\n",
              "      <td>no</td>\n",
              "      <td>United States</td>\n",
              "      <td>no</td>\n",
              "      <td>Parent</td>\n",
              "    </tr>\n",
              "    <tr>\n",
              "      <th>5</th>\n",
              "      <td>0</td>\n",
              "      <td>0</td>\n",
              "      <td>1</td>\n",
              "      <td>0</td>\n",
              "      <td>1</td>\n",
              "      <td>1</td>\n",
              "      <td>0</td>\n",
              "      <td>1</td>\n",
              "      <td>0</td>\n",
              "      <td>1</td>\n",
              "      <td>4</td>\n",
              "      <td>m</td>\n",
              "      <td>?</td>\n",
              "      <td>no</td>\n",
              "      <td>yes</td>\n",
              "      <td>Egypt</td>\n",
              "      <td>no</td>\n",
              "      <td>?</td>\n",
              "    </tr>\n",
              "    <tr>\n",
              "      <th>6</th>\n",
              "      <td>1</td>\n",
              "      <td>0</td>\n",
              "      <td>1</td>\n",
              "      <td>1</td>\n",
              "      <td>1</td>\n",
              "      <td>1</td>\n",
              "      <td>0</td>\n",
              "      <td>1</td>\n",
              "      <td>0</td>\n",
              "      <td>1</td>\n",
              "      <td>5</td>\n",
              "      <td>m</td>\n",
              "      <td>White-European</td>\n",
              "      <td>no</td>\n",
              "      <td>no</td>\n",
              "      <td>United Kingdom</td>\n",
              "      <td>no</td>\n",
              "      <td>Parent</td>\n",
              "    </tr>\n",
              "    <tr>\n",
              "      <th>7</th>\n",
              "      <td>1</td>\n",
              "      <td>1</td>\n",
              "      <td>1</td>\n",
              "      <td>1</td>\n",
              "      <td>1</td>\n",
              "      <td>1</td>\n",
              "      <td>1</td>\n",
              "      <td>1</td>\n",
              "      <td>0</td>\n",
              "      <td>0</td>\n",
              "      <td>5</td>\n",
              "      <td>f</td>\n",
              "      <td>Middle Eastern</td>\n",
              "      <td>no</td>\n",
              "      <td>no</td>\n",
              "      <td>Bahrain</td>\n",
              "      <td>no</td>\n",
              "      <td>Parent</td>\n",
              "    </tr>\n",
              "    <tr>\n",
              "      <th>8</th>\n",
              "      <td>1</td>\n",
              "      <td>1</td>\n",
              "      <td>1</td>\n",
              "      <td>1</td>\n",
              "      <td>1</td>\n",
              "      <td>1</td>\n",
              "      <td>1</td>\n",
              "      <td>0</td>\n",
              "      <td>0</td>\n",
              "      <td>0</td>\n",
              "      <td>11</td>\n",
              "      <td>f</td>\n",
              "      <td>Middle Eastern</td>\n",
              "      <td>no</td>\n",
              "      <td>no</td>\n",
              "      <td>Bahrain</td>\n",
              "      <td>no</td>\n",
              "      <td>Parent</td>\n",
              "    </tr>\n",
              "    <tr>\n",
              "      <th>9</th>\n",
              "      <td>0</td>\n",
              "      <td>0</td>\n",
              "      <td>1</td>\n",
              "      <td>1</td>\n",
              "      <td>1</td>\n",
              "      <td>0</td>\n",
              "      <td>1</td>\n",
              "      <td>1</td>\n",
              "      <td>0</td>\n",
              "      <td>0</td>\n",
              "      <td>11</td>\n",
              "      <td>f</td>\n",
              "      <td>?</td>\n",
              "      <td>no</td>\n",
              "      <td>yes</td>\n",
              "      <td>Austria</td>\n",
              "      <td>no</td>\n",
              "      <td>?</td>\n",
              "    </tr>\n",
              "    <tr>\n",
              "      <th>10</th>\n",
              "      <td>1</td>\n",
              "      <td>0</td>\n",
              "      <td>0</td>\n",
              "      <td>0</td>\n",
              "      <td>1</td>\n",
              "      <td>1</td>\n",
              "      <td>1</td>\n",
              "      <td>1</td>\n",
              "      <td>1</td>\n",
              "      <td>1</td>\n",
              "      <td>10</td>\n",
              "      <td>m</td>\n",
              "      <td>White-European</td>\n",
              "      <td>yes</td>\n",
              "      <td>no</td>\n",
              "      <td>United Kingdom</td>\n",
              "      <td>no</td>\n",
              "      <td>Self</td>\n",
              "    </tr>\n",
              "  </tbody>\n",
              "</table>\n",
              "</div>"
            ],
            "text/plain": [
              "    A1_Score  A2_Score  A3_Score  ...   contry_of_res  used_app_before  relation\n",
              "0          1         1         0  ...          Jordan               no    Parent\n",
              "1          1         1         0  ...          Jordan               no    Parent\n",
              "2          1         1         0  ...          Jordan              yes         ?\n",
              "3          0         1         0  ...          Jordan               no         ?\n",
              "4          1         1         1  ...   United States               no    Parent\n",
              "5          0         0         1  ...           Egypt               no         ?\n",
              "6          1         0         1  ...  United Kingdom               no    Parent\n",
              "7          1         1         1  ...         Bahrain               no    Parent\n",
              "8          1         1         1  ...         Bahrain               no    Parent\n",
              "9          0         0         1  ...         Austria               no         ?\n",
              "10         1         0         0  ...  United Kingdom               no      Self\n",
              "\n",
              "[11 rows x 18 columns]"
            ]
          },
          "metadata": {
            "tags": []
          },
          "execution_count": 17
        }
      ]
    },
    {
      "cell_type": "code",
      "metadata": {
        "id": "Q5H8tu-fjfcx",
        "colab_type": "code",
        "colab": {}
      },
      "source": [
        "# convert the data to categorical values - one-hot-encoded vectors\n",
        "X = pd.get_dummies(x)"
      ],
      "execution_count": 0,
      "outputs": []
    },
    {
      "cell_type": "code",
      "metadata": {
        "id": "DTTXIw-ajiAd",
        "colab_type": "code",
        "colab": {
          "base_uri": "https://localhost:8080/",
          "height": 697
        },
        "outputId": "b821177a-d85e-452a-cd50-9ef1c3fe4487"
      },
      "source": [
        "# print the new categorical column labels\n",
        "X.columns.values"
      ],
      "execution_count": 19,
      "outputs": [
        {
          "output_type": "execute_result",
          "data": {
            "text/plain": [
              "array(['A1_Score', 'A2_Score', 'A3_Score', 'A4_Score', 'A5_Score',\n",
              "       'A6_Score', 'A7_Score', 'A8_Score', 'A9_Score', 'A10_Score',\n",
              "       'age_10', 'age_11', 'age_4', 'age_5', 'age_6', 'age_7', 'age_8',\n",
              "       'age_9', 'age_?', 'gender_f', 'gender_m', 'ethnicity_?',\n",
              "       'ethnicity_Asian', 'ethnicity_Black', 'ethnicity_Hispanic',\n",
              "       'ethnicity_Latino', 'ethnicity_Middle Eastern ',\n",
              "       'ethnicity_Others', 'ethnicity_Pasifika', 'ethnicity_South Asian',\n",
              "       'ethnicity_Turkish', 'ethnicity_White-European', 'jundice_no',\n",
              "       'jundice_yes', 'austim_no', 'austim_yes',\n",
              "       'contry_of_res_Afghanistan', 'contry_of_res_Argentina',\n",
              "       'contry_of_res_Armenia', 'contry_of_res_Australia',\n",
              "       'contry_of_res_Austria', 'contry_of_res_Bahrain',\n",
              "       'contry_of_res_Bangladesh', 'contry_of_res_Bhutan',\n",
              "       'contry_of_res_Brazil', 'contry_of_res_Bulgaria',\n",
              "       'contry_of_res_Canada', 'contry_of_res_China',\n",
              "       'contry_of_res_Costa Rica', 'contry_of_res_Egypt',\n",
              "       'contry_of_res_Europe', 'contry_of_res_Georgia',\n",
              "       'contry_of_res_Germany', 'contry_of_res_Ghana',\n",
              "       'contry_of_res_India', 'contry_of_res_Iraq',\n",
              "       'contry_of_res_Ireland', 'contry_of_res_Isle of Man',\n",
              "       'contry_of_res_Italy', 'contry_of_res_Japan',\n",
              "       'contry_of_res_Jordan', 'contry_of_res_Kuwait',\n",
              "       'contry_of_res_Latvia', 'contry_of_res_Lebanon',\n",
              "       'contry_of_res_Libya', 'contry_of_res_Malaysia',\n",
              "       'contry_of_res_Malta', 'contry_of_res_Mexico',\n",
              "       'contry_of_res_Nepal', 'contry_of_res_Netherlands',\n",
              "       'contry_of_res_New Zealand', 'contry_of_res_Nigeria',\n",
              "       'contry_of_res_Oman', 'contry_of_res_Pakistan',\n",
              "       'contry_of_res_Philippines', 'contry_of_res_Qatar',\n",
              "       'contry_of_res_Romania', 'contry_of_res_Russia',\n",
              "       'contry_of_res_Saudi Arabia', 'contry_of_res_South Africa',\n",
              "       'contry_of_res_South Korea', 'contry_of_res_Sweden',\n",
              "       'contry_of_res_Syria', 'contry_of_res_Turkey',\n",
              "       'contry_of_res_U.S. Outlying Islands',\n",
              "       'contry_of_res_United Arab Emirates',\n",
              "       'contry_of_res_United Kingdom', 'contry_of_res_United States',\n",
              "       'used_app_before_no', 'used_app_before_yes', 'relation_?',\n",
              "       'relation_Health care professional', 'relation_Parent',\n",
              "       'relation_Relative', 'relation_Self', 'relation_self'],\n",
              "      dtype=object)"
            ]
          },
          "metadata": {
            "tags": []
          },
          "execution_count": 19
        }
      ]
    },
    {
      "cell_type": "code",
      "metadata": {
        "id": "tS3Y_V4gjkC5",
        "colab_type": "code",
        "colab": {
          "base_uri": "https://localhost:8080/",
          "height": 221
        },
        "outputId": "6c06da99-0e63-4efb-9db5-f5e943545e63"
      },
      "source": [
        "# print an example patient from the categorical data\n",
        "X.loc[1]"
      ],
      "execution_count": 20,
      "outputs": [
        {
          "output_type": "execute_result",
          "data": {
            "text/plain": [
              "A1_Score                             1\n",
              "A2_Score                             1\n",
              "A3_Score                             0\n",
              "A4_Score                             0\n",
              "A5_Score                             1\n",
              "                                    ..\n",
              "relation_Health care professional    0\n",
              "relation_Parent                      1\n",
              "relation_Relative                    0\n",
              "relation_Self                        0\n",
              "relation_self                        0\n",
              "Name: 1, Length: 96, dtype: int64"
            ]
          },
          "metadata": {
            "tags": []
          },
          "execution_count": 20
        }
      ]
    },
    {
      "cell_type": "code",
      "metadata": {
        "id": "wGbRXLO-jmcU",
        "colab_type": "code",
        "colab": {}
      },
      "source": [
        "# convert the class data to categorical values - one-hot-encoded vectors\n",
        "Y = pd.get_dummies(y)"
      ],
      "execution_count": 0,
      "outputs": []
    },
    {
      "cell_type": "code",
      "metadata": {
        "id": "tSx-_zXhjoXy",
        "colab_type": "code",
        "colab": {
          "base_uri": "https://localhost:8080/",
          "height": 359
        },
        "outputId": "c368ea56-05d1-4c3c-bbf8-41f7d24687f8"
      },
      "source": [
        "Y.iloc[:10]"
      ],
      "execution_count": 22,
      "outputs": [
        {
          "output_type": "execute_result",
          "data": {
            "text/html": [
              "<div>\n",
              "<style scoped>\n",
              "    .dataframe tbody tr th:only-of-type {\n",
              "        vertical-align: middle;\n",
              "    }\n",
              "\n",
              "    .dataframe tbody tr th {\n",
              "        vertical-align: top;\n",
              "    }\n",
              "\n",
              "    .dataframe thead th {\n",
              "        text-align: right;\n",
              "    }\n",
              "</style>\n",
              "<table border=\"1\" class=\"dataframe\">\n",
              "  <thead>\n",
              "    <tr style=\"text-align: right;\">\n",
              "      <th></th>\n",
              "      <th>NO</th>\n",
              "      <th>YES</th>\n",
              "    </tr>\n",
              "  </thead>\n",
              "  <tbody>\n",
              "    <tr>\n",
              "      <th>0</th>\n",
              "      <td>1</td>\n",
              "      <td>0</td>\n",
              "    </tr>\n",
              "    <tr>\n",
              "      <th>1</th>\n",
              "      <td>1</td>\n",
              "      <td>0</td>\n",
              "    </tr>\n",
              "    <tr>\n",
              "      <th>2</th>\n",
              "      <td>1</td>\n",
              "      <td>0</td>\n",
              "    </tr>\n",
              "    <tr>\n",
              "      <th>3</th>\n",
              "      <td>1</td>\n",
              "      <td>0</td>\n",
              "    </tr>\n",
              "    <tr>\n",
              "      <th>4</th>\n",
              "      <td>0</td>\n",
              "      <td>1</td>\n",
              "    </tr>\n",
              "    <tr>\n",
              "      <th>5</th>\n",
              "      <td>1</td>\n",
              "      <td>0</td>\n",
              "    </tr>\n",
              "    <tr>\n",
              "      <th>6</th>\n",
              "      <td>0</td>\n",
              "      <td>1</td>\n",
              "    </tr>\n",
              "    <tr>\n",
              "      <th>7</th>\n",
              "      <td>0</td>\n",
              "      <td>1</td>\n",
              "    </tr>\n",
              "    <tr>\n",
              "      <th>8</th>\n",
              "      <td>0</td>\n",
              "      <td>1</td>\n",
              "    </tr>\n",
              "    <tr>\n",
              "      <th>9</th>\n",
              "      <td>1</td>\n",
              "      <td>0</td>\n",
              "    </tr>\n",
              "  </tbody>\n",
              "</table>\n",
              "</div>"
            ],
            "text/plain": [
              "   NO  YES\n",
              "0   1    0\n",
              "1   1    0\n",
              "2   1    0\n",
              "3   1    0\n",
              "4   0    1\n",
              "5   1    0\n",
              "6   0    1\n",
              "7   0    1\n",
              "8   0    1\n",
              "9   1    0"
            ]
          },
          "metadata": {
            "tags": []
          },
          "execution_count": 22
        }
      ]
    },
    {
      "cell_type": "markdown",
      "metadata": {
        "id": "VSxeSyaejtVp",
        "colab_type": "text"
      },
      "source": [
        "## **Split the Dataset into Training and Testing Datasets**\n",
        "Before we can begin training our neural network, we need to split the dataset into training and testing datasets. This will allow us to test our network after we are done training to determine how well it will generalize to new data. This step is incredibly easy when using the train_test_split() function provided by scikit-learn!"
      ]
    },
    {
      "cell_type": "code",
      "metadata": {
        "id": "3h2iBeeDjyBZ",
        "colab_type": "code",
        "colab": {}
      },
      "source": [
        "from sklearn import model_selection\n",
        "# split the X and Y data into training and testing datasets\n",
        "X_train, X_test, Y_train, Y_test = model_selection.train_test_split(X, Y, test_size = 0.2)"
      ],
      "execution_count": 0,
      "outputs": []
    },
    {
      "cell_type": "code",
      "metadata": {
        "id": "u7QqwsTHj2AD",
        "colab_type": "code",
        "colab": {
          "base_uri": "https://localhost:8080/",
          "height": 85
        },
        "outputId": "5bb7c71a-5ef9-449d-8a09-e2e7f4f6121c"
      },
      "source": [
        "print(X_train.shape)\n",
        "print(X_test.shape)\n",
        "print(Y_train.shape)\n",
        "print(Y_test.shape)"
      ],
      "execution_count": 24,
      "outputs": [
        {
          "output_type": "stream",
          "text": [
            "(233, 96)\n",
            "(59, 96)\n",
            "(233, 2)\n",
            "(59, 2)\n"
          ],
          "name": "stdout"
        }
      ]
    },
    {
      "cell_type": "markdown",
      "metadata": {
        "id": "qn6yerNyLQBl",
        "colab_type": "text"
      },
      "source": [
        "## 4. Building the Network - Keras\n",
        "In this project, we are going to use Keras to build and train our network. This model will be relatively simple and will only use dense (also known as fully connected) layers. This is the most common neural network layer. The network will have one hidden layer, use an Adam optimizer, and a categorical crossentropy loss. We won't worry about optimizing parameters such as learning rate, number of neurons in each layer, or activation functions in this project; however, if you have the time, manually adjusting these parameters and observing the results is a great way to learn about their function!"
      ]
    },
    {
      "cell_type": "code",
      "metadata": {
        "id": "6jCUOy4mLTuE",
        "colab_type": "code",
        "outputId": "d938e295-8b8c-4d4a-e4bf-25e447fe36ae",
        "colab": {
          "base_uri": "https://localhost:8080/",
          "height": 289
        }
      },
      "source": [
        "import keras\n",
        "# Build a neural network using Keras\n",
        "from tensorflow.python.keras.layers import Dense\n",
        "from tensorflow.python.keras import Sequential\n",
        "from keras.optimizers import Adam\n",
        "\n",
        "# Define a function to build the keras model\n",
        "def create_model():\n",
        "    # Create model\n",
        "    model = Sequential()\n",
        "    model.add(Dense(8, input_dim=96, kernel_initializer='normal', activation='relu'))\n",
        "    model.add(Dense(4, kernel_initializer='normal', activation='relu'))\n",
        "    model.add(Dense(2, activation='sigmoid'))\n",
        "    \n",
        "    # Compile model\n",
        "    adam = Adam(lr=0.001)\n",
        "    model.compile(loss='categorical_crossentropy', optimizer='adam', metrics=['accuracy'])\n",
        "    return model\n",
        "\n",
        "model = create_model()\n",
        "\n",
        "print(model.summary())"
      ],
      "execution_count": 25,
      "outputs": [
        {
          "output_type": "stream",
          "text": [
            "Using TensorFlow backend.\n"
          ],
          "name": "stderr"
        },
        {
          "output_type": "stream",
          "text": [
            "Model: \"sequential\"\n",
            "_________________________________________________________________\n",
            "Layer (type)                 Output Shape              Param #   \n",
            "=================================================================\n",
            "dense (Dense)                (None, 8)                 776       \n",
            "_________________________________________________________________\n",
            "dense_1 (Dense)              (None, 4)                 36        \n",
            "_________________________________________________________________\n",
            "dense_2 (Dense)              (None, 2)                 10        \n",
            "=================================================================\n",
            "Total params: 822\n",
            "Trainable params: 822\n",
            "Non-trainable params: 0\n",
            "_________________________________________________________________\n",
            "None\n"
          ],
          "name": "stdout"
        }
      ]
    },
    {
      "cell_type": "markdown",
      "metadata": {
        "id": "XLe_eLCiL2Da",
        "colab_type": "text"
      },
      "source": [
        "## 5. Training the Network\n",
        "Now it's time for the fun! Training a Keras model is as simple as calling model.fit()."
      ]
    },
    {
      "cell_type": "code",
      "metadata": {
        "id": "HgXC61TILziw",
        "colab_type": "code",
        "outputId": "7fa4c383-bec7-47bb-c3d2-69808ca2f74a",
        "colab": {
          "base_uri": "https://localhost:8080/",
          "height": 1000
        }
      },
      "source": [
        "# Fit the model to the training data\n",
        "history = model.fit(x=X_train, y=Y_train, epochs=50, batch_size=10, verbose = 1)"
      ],
      "execution_count": 26,
      "outputs": [
        {
          "output_type": "stream",
          "text": [
            "Epoch 1/50\n",
            "24/24 [==============================] - 0s 1ms/step - loss: 0.6922 - accuracy: 0.5579\n",
            "Epoch 2/50\n",
            "24/24 [==============================] - 0s 1ms/step - loss: 0.6888 - accuracy: 0.7124\n",
            "Epoch 3/50\n",
            "24/24 [==============================] - 0s 1ms/step - loss: 0.6827 - accuracy: 0.8627\n",
            "Epoch 4/50\n",
            "24/24 [==============================] - 0s 1ms/step - loss: 0.6721 - accuracy: 0.8670\n",
            "Epoch 5/50\n",
            "24/24 [==============================] - 0s 1ms/step - loss: 0.6551 - accuracy: 0.8884\n",
            "Epoch 6/50\n",
            "24/24 [==============================] - 0s 1ms/step - loss: 0.6352 - accuracy: 0.8927\n",
            "Epoch 7/50\n",
            "24/24 [==============================] - 0s 1ms/step - loss: 0.6085 - accuracy: 0.8927\n",
            "Epoch 8/50\n",
            "24/24 [==============================] - 0s 1ms/step - loss: 0.5811 - accuracy: 0.8970\n",
            "Epoch 9/50\n",
            "24/24 [==============================] - 0s 1ms/step - loss: 0.5471 - accuracy: 0.9185\n",
            "Epoch 10/50\n",
            "24/24 [==============================] - 0s 1ms/step - loss: 0.5135 - accuracy: 0.9227\n",
            "Epoch 11/50\n",
            "24/24 [==============================] - 0s 1ms/step - loss: 0.4783 - accuracy: 0.9485\n",
            "Epoch 12/50\n",
            "24/24 [==============================] - 0s 1ms/step - loss: 0.4443 - accuracy: 0.9399\n",
            "Epoch 13/50\n",
            "24/24 [==============================] - 0s 2ms/step - loss: 0.4090 - accuracy: 0.9442\n",
            "Epoch 14/50\n",
            "24/24 [==============================] - 0s 1ms/step - loss: 0.3781 - accuracy: 0.9657\n",
            "Epoch 15/50\n",
            "24/24 [==============================] - 0s 1ms/step - loss: 0.3442 - accuracy: 0.9614\n",
            "Epoch 16/50\n",
            "24/24 [==============================] - 0s 1ms/step - loss: 0.3106 - accuracy: 0.9528\n",
            "Epoch 17/50\n",
            "24/24 [==============================] - 0s 1ms/step - loss: 0.2879 - accuracy: 0.9742\n",
            "Epoch 18/50\n",
            "24/24 [==============================] - 0s 1ms/step - loss: 0.2525 - accuracy: 0.9785\n",
            "Epoch 19/50\n",
            "24/24 [==============================] - 0s 1ms/step - loss: 0.2226 - accuracy: 0.9742\n",
            "Epoch 20/50\n",
            "24/24 [==============================] - 0s 1ms/step - loss: 0.2011 - accuracy: 0.9828\n",
            "Epoch 21/50\n",
            "24/24 [==============================] - 0s 1ms/step - loss: 0.1847 - accuracy: 0.9657\n",
            "Epoch 22/50\n",
            "24/24 [==============================] - 0s 1ms/step - loss: 0.1570 - accuracy: 0.9871\n",
            "Epoch 23/50\n",
            "24/24 [==============================] - 0s 1ms/step - loss: 0.1516 - accuracy: 0.9828\n",
            "Epoch 24/50\n",
            "24/24 [==============================] - 0s 1ms/step - loss: 0.1279 - accuracy: 0.9871\n",
            "Epoch 25/50\n",
            "24/24 [==============================] - 0s 1ms/step - loss: 0.1166 - accuracy: 0.9871\n",
            "Epoch 26/50\n",
            "24/24 [==============================] - 0s 1ms/step - loss: 0.1062 - accuracy: 0.9871\n",
            "Epoch 27/50\n",
            "24/24 [==============================] - 0s 1ms/step - loss: 0.0982 - accuracy: 0.9914\n",
            "Epoch 28/50\n",
            "24/24 [==============================] - 0s 1ms/step - loss: 0.0917 - accuracy: 0.9957\n",
            "Epoch 29/50\n",
            "24/24 [==============================] - 0s 1ms/step - loss: 0.0803 - accuracy: 0.9914\n",
            "Epoch 30/50\n",
            "24/24 [==============================] - 0s 1ms/step - loss: 0.0767 - accuracy: 0.9914\n",
            "Epoch 31/50\n",
            "24/24 [==============================] - 0s 1ms/step - loss: 0.0696 - accuracy: 0.9914\n",
            "Epoch 32/50\n",
            "24/24 [==============================] - 0s 1ms/step - loss: 0.0658 - accuracy: 0.9914\n",
            "Epoch 33/50\n",
            "24/24 [==============================] - 0s 1ms/step - loss: 0.0603 - accuracy: 0.9957\n",
            "Epoch 34/50\n",
            "24/24 [==============================] - 0s 1ms/step - loss: 0.0571 - accuracy: 0.9957\n",
            "Epoch 35/50\n",
            "24/24 [==============================] - 0s 2ms/step - loss: 0.0531 - accuracy: 0.9957\n",
            "Epoch 36/50\n",
            "24/24 [==============================] - 0s 1ms/step - loss: 0.0475 - accuracy: 0.9957\n",
            "Epoch 37/50\n",
            "24/24 [==============================] - 0s 1ms/step - loss: 0.0464 - accuracy: 0.9957\n",
            "Epoch 38/50\n",
            "24/24 [==============================] - 0s 1ms/step - loss: 0.0428 - accuracy: 0.9957\n",
            "Epoch 39/50\n",
            "24/24 [==============================] - 0s 2ms/step - loss: 0.0394 - accuracy: 0.9957\n",
            "Epoch 40/50\n",
            "24/24 [==============================] - 0s 1ms/step - loss: 0.0376 - accuracy: 0.9957\n",
            "Epoch 41/50\n",
            "24/24 [==============================] - 0s 1ms/step - loss: 0.0345 - accuracy: 1.0000\n",
            "Epoch 42/50\n",
            "24/24 [==============================] - 0s 1ms/step - loss: 0.0334 - accuracy: 0.9957\n",
            "Epoch 43/50\n",
            "24/24 [==============================] - 0s 1ms/step - loss: 0.0312 - accuracy: 1.0000\n",
            "Epoch 44/50\n",
            "24/24 [==============================] - 0s 1ms/step - loss: 0.0299 - accuracy: 1.0000\n",
            "Epoch 45/50\n",
            "24/24 [==============================] - 0s 1ms/step - loss: 0.0281 - accuracy: 1.0000\n",
            "Epoch 46/50\n",
            "24/24 [==============================] - 0s 1ms/step - loss: 0.0248 - accuracy: 1.0000\n",
            "Epoch 47/50\n",
            "24/24 [==============================] - 0s 1ms/step - loss: 0.0249 - accuracy: 1.0000\n",
            "Epoch 48/50\n",
            "24/24 [==============================] - 0s 1ms/step - loss: 0.0245 - accuracy: 1.0000\n",
            "Epoch 49/50\n",
            "24/24 [==============================] - 0s 1ms/step - loss: 0.0210 - accuracy: 1.0000\n",
            "Epoch 50/50\n",
            "24/24 [==============================] - 0s 1ms/step - loss: 0.0196 - accuracy: 1.0000\n"
          ],
          "name": "stdout"
        }
      ]
    },
    {
      "cell_type": "markdown",
      "metadata": {
        "id": "wjWUMLC7THHS",
        "colab_type": "text"
      },
      "source": [
        "## 6. Testing and Performance Metrics\n",
        "Now that our model has been trained, we need to test its performance on the testing dataset. The model has never seen this information before; as a result, the testing dataset allows us to determine whether or not the model will be able to generalize to information that wasn't used during its training phase. We will use some of the metrics provided by scikit-learn for this purpose!"
      ]
    },
    {
      "cell_type": "code",
      "metadata": {
        "id": "RxMZDmtdTJym",
        "colab_type": "code",
        "colab": {
          "base_uri": "https://localhost:8080/",
          "height": 139
        },
        "outputId": "b765a537-c792-430a-fee4-c51ad31d2a8c"
      },
      "source": [
        "# generate classification report using predictions for categorical model\n",
        "from sklearn.metrics import classification_report, accuracy_score\n",
        "\n",
        "predictions = model.predict_classes(X_test)\n",
        "predictions"
      ],
      "execution_count": 27,
      "outputs": [
        {
          "output_type": "stream",
          "text": [
            "WARNING:tensorflow:From <ipython-input-27-7b43f079e804>:3: Sequential.predict_classes (from tensorflow.python.keras.engine.sequential) is deprecated and will be removed after 2021-01-01.\n",
            "Instructions for updating:\n",
            "Please use instead:* `np.argmax(model.predict(x), axis=-1)`,   if your model does multi-class classification   (e.g. if it uses a `softmax` last-layer activation).* `(model.predict(x) > 0.5).astype(\"int32\")`,   if your model does binary classification   (e.g. if it uses a `sigmoid` last-layer activation).\n"
          ],
          "name": "stdout"
        },
        {
          "output_type": "execute_result",
          "data": {
            "text/plain": [
              "array([0, 0, 1, 0, 1, 1, 1, 1, 1, 1, 1, 1, 1, 0, 1, 0, 0, 0, 0, 0, 0, 0,\n",
              "       1, 1, 1, 0, 1, 1, 0, 0, 1, 1, 1, 0, 1, 1, 0, 1, 1, 0, 0, 0, 1, 1,\n",
              "       1, 0, 0, 1, 1, 0, 1, 0, 0, 1, 1, 1, 1, 1, 1])"
            ]
          },
          "metadata": {
            "tags": []
          },
          "execution_count": 27
        }
      ]
    },
    {
      "cell_type": "code",
      "metadata": {
        "id": "7w0vo6BFTba9",
        "colab_type": "code",
        "colab": {
          "base_uri": "https://localhost:8080/",
          "height": 204
        },
        "outputId": "01ae388c-c782-48ea-dbbd-7193eb472b4e"
      },
      "source": [
        "print('Results for Categorical Model')\n",
        "print(accuracy_score(Y_test[['YES']], predictions))\n",
        "print(classification_report(Y_test[['YES']], predictions))"
      ],
      "execution_count": 28,
      "outputs": [
        {
          "output_type": "stream",
          "text": [
            "Results for Categorical Model\n",
            "0.9661016949152542\n",
            "              precision    recall  f1-score   support\n",
            "\n",
            "           0       0.96      0.96      0.96        24\n",
            "           1       0.97      0.97      0.97        35\n",
            "\n",
            "    accuracy                           0.97        59\n",
            "   macro avg       0.96      0.96      0.96        59\n",
            "weighted avg       0.97      0.97      0.97        59\n",
            "\n"
          ],
          "name": "stdout"
        }
      ]
    }
  ]
}
